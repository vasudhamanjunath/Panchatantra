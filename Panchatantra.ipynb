{
  "cells": [
    {
      "cell_type": "markdown",
      "metadata": {
        "id": "rIIZ2RnesZTw"
      },
      "source": [
        "## Setup"
      ]
    },
    {
      "cell_type": "code",
      "execution_count": null,
      "metadata": {
        "colab": {
          "base_uri": "https://localhost:8080/"
        },
        "id": "LHfPLGkqe-Jx",
        "outputId": "3cc7a4c2-d920-45d0-cb17-41d3ec19932c"
      },
      "outputs": [],
      "source": [
        "# Clone the repo including pretrained models\n",
        "!git clone https://github.com/as-ideas/ForwardTacotron.git"
      ]
    },
    {
      "cell_type": "code",
      "execution_count": null,
      "metadata": {
        "colab": {
          "base_uri": "https://localhost:8080/",
          "height": 1000
        },
        "id": "4mozuFkefE41",
        "outputId": "d1f2f7ce-6b0f-4585-8f49-676033244c7a"
      },
      "outputs": [],
      "source": [
        "# Install requirements\n",
        "%cd ForwardTacotron/\n",
        "!apt-get install espeak\n",
        "!pip install -r requirements.txt"
      ]
    },
    {
      "cell_type": "code",
      "execution_count": null,
      "metadata": {
        "colab": {
          "base_uri": "https://localhost:8080/"
        },
        "id": "quTSF6AYwhPg",
        "outputId": "d422940f-6eb1-428e-c66b-6d3573e4db59"
      },
      "outputs": [],
      "source": [
        "# Get pretrained models\n",
        "!wget https://public-asai-dl-models.s3.eu-central-1.amazonaws.com/ForwardTacotron/forward_step90k.pt\n",
        "!wget https://public-asai-dl-models.s3.eu-central-1.amazonaws.com/ForwardTacotron/fastpitch_step200k.pt"
      ]
    },
    {
      "cell_type": "code",
      "execution_count": null,
      "metadata": {
        "colab": {
          "base_uri": "https://localhost:8080/"
        },
        "id": "N6FFe4g2fuBZ",
        "outputId": "0e57b910-e9bc-4fc1-e438-28dd59bebca7"
      },
      "outputs": [],
      "source": [
        "# Load pretrained models\n",
        "from notebook_utils.synthesize import Synthesizer\n",
        "import IPython.display as ipd\n",
        "synth_forward = Synthesizer(tts_path='forward_step90k.pt')\n",
        "synth_fastpitch = Synthesizer(tts_path='fastpitch_step200k.pt')"
      ]
    },
    {
      "cell_type": "markdown",
      "metadata": {
        "id": "IoZNB5lKsQKo"
      },
      "source": [
        "##Synthesize"
      ]
    },
    {
      "cell_type": "code",
      "execution_count": null,
      "metadata": {
        "id": "D8ImU6hvuva5"
      },
      "outputs": [],
      "source": [
        "def extract_paragraph(file_path, paragraph_number):\n",
        "    with open(file_path, 'r', encoding='latin-1') as file:\n",
        "        paragraphs = file.read().split('\\n\\n')\n",
        "        if paragraph_number <= len(paragraphs):\n",
        "            return paragraphs[paragraph_number - 1]\n",
        "        else:\n",
        "            return \"Paragraph not found\""
      ]
    },
    {
      "cell_type": "code",
      "execution_count": null,
      "metadata": {
        "id": "up-xHa3MuhuX"
      },
      "outputs": [],
      "source": [
        "input_text = extract_paragraph('/content/panchatantra.txt', 1)"
      ]
    },
    {
      "cell_type": "code",
      "execution_count": null,
      "metadata": {
        "colab": {
          "base_uri": "https://localhost:8080/",
          "height": 353
        },
        "id": "5P8Q8A3julCw",
        "outputId": "c558888b-f5fb-4e39-ede8-cdcd1b2f544e"
      },
      "outputs": [],
      "source": [
        "import numpy as np\n",
        "import re\n",
        "\n",
        "# Split the input text into sentences\n",
        "sentences = re.split(r'(?<!\\w\\.\\w.)(?<![A-Z][a-z]\\.)(?<=\\.|\\?)\\s', input_text)\n",
        "\n",
        "# Calculate the number of sentences per part\n",
        "total_sentences = len(sentences)\n",
        "sentences_per_part = total_sentences // 15\n",
        "\n",
        "# Split the sentences into parts\n",
        "sentence_parts = [sentences[i:i+sentences_per_part] for i in range(0, total_sentences, sentences_per_part)]\n",
        "\n",
        "# Initialize a list to store the audio segments\n",
        "audio_segments = []\n",
        "\n",
        "# Iterate over each part and synthesize the audio\n",
        "pitch_func = lambda x: x * 1.5\n",
        "for part in sentence_parts:\n",
        "    part_text = ' '.join(part)  # Join the sentences into a single text for synthesis\n",
        "    wav = synth_fastpitch(part_text, voc_model='melgan', alpha=1, pitch_function=pitch_func)\n",
        "    audio_segments.append(wav)\n",
        "\n",
        "# Concatenate the audio segments\n",
        "final_audio = np.concatenate(audio_segments)\n",
        "\n",
        "# Play the final audio\n",
        "ipd.Audio(final_audio, rate=synth_fastpitch.dsp.sample_rate)"
      ]
    }
  ],
  "metadata": {
    "accelerator": "GPU",
    "colab": {
      "name": "synthesize.ipynb",
      "provenance": []
    },
    "kernelspec": {
      "display_name": "Python 3 (ipykernel)",
      "language": "python",
      "name": "python3"
    },
    "language_info": {
      "codemirror_mode": {
        "name": "ipython",
        "version": 3
      },
      "file_extension": ".py",
      "mimetype": "text/x-python",
      "name": "python",
      "nbconvert_exporter": "python",
      "pygments_lexer": "ipython3",
      "version": "3.10.6"
    }
  },
  "nbformat": 4,
  "nbformat_minor": 0
}
